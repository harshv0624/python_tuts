{
  "nbformat": 4,
  "nbformat_minor": 0,
  "metadata": {
    "colab": {
      "provenance": [],
      "authorship_tag": "ABX9TyO9Z2SsSTFPm9xllA1W34cX",
      "include_colab_link": true
    },
    "kernelspec": {
      "name": "python3",
      "display_name": "Python 3"
    },
    "language_info": {
      "name": "python"
    }
  },
  "cells": [
    {
      "cell_type": "markdown",
      "metadata": {
        "id": "view-in-github",
        "colab_type": "text"
      },
      "source": [
        "<a href=\"https://colab.research.google.com/github/harshv0624/python_tuts/blob/main/Python_Strings.ipynb\" target=\"_parent\"><img src=\"https://colab.research.google.com/assets/colab-badge.svg\" alt=\"Open In Colab\"/></a>"
      ]
    },
    {
      "cell_type": "code",
      "execution_count": null,
      "metadata": {
        "colab": {
          "base_uri": "https://localhost:8080/"
        },
        "id": "uzsb-sV7qXkh",
        "outputId": "e0b4b082-4b6a-462e-9260-eac0ef1cddf0"
      },
      "outputs": [
        {
          "output_type": "stream",
          "name": "stdout",
          "text": [
            "Harsh\n"
          ]
        }
      ],
      "source": [
        "#creating a string by single quote\n",
        "var='singlequote'\n",
        "#creating a string by double quote\n",
        "var=\"Doublequote\"\n",
        "#crating a string type variable\n",
        "name=\"Harsh\"\n",
        "print(name)"
      ]
    },
    {
      "cell_type": "code",
      "source": [
        "#Access string characters in python\n",
        "#There are three ways to access the string characters in python\n",
        "#Indexing\n",
        "#Negative Indexing\n",
        "#slicing\n",
        "name='Harsh'\n",
        "print(name[2]) #Accesss using the index value\n",
        "\n",
        "name='Harsh Vishwakarma'\n",
        "print(name[-6]) #Negative Indexing-->it is used to access the string characters from the last element of the string(decreasing manner)\n",
        "\n",
        "name=\"Harsh Vishwakarma\"\n",
        "print(name[2:5]) #slicing-->it is basically used to access the portion or range of characters in string by using the slicing operator :"
      ],
      "metadata": {
        "colab": {
          "base_uri": "https://localhost:8080/"
        },
        "id": "vM2xDdAqqjvx",
        "outputId": "d61a36e9-a86b-40d3-e4dc-37d8aead2340"
      },
      "execution_count": null,
      "outputs": [
        {
          "output_type": "stream",
          "name": "stdout",
          "text": [
            "r\n",
            "a\n",
            "rsh\n"
          ]
        }
      ]
    },
    {
      "cell_type": "code",
      "source": [
        "#Python Strings are immutable\n",
        "mess='hi how are you?'\n",
        "mess[0]='h'\n",
        "print(mess)\n",
        "#As the below message says that string object does not support item assignment means you can not change the characters of the string once they are created (immutable)"
      ],
      "metadata": {
        "colab": {
          "base_uri": "https://localhost:8080/",
          "height": 244
        },
        "id": "kBM2wDVAqyPA",
        "outputId": "037e3592-ede8-4321-87bc-91a4b8c43514"
      },
      "execution_count": null,
      "outputs": [
        {
          "output_type": "error",
          "ename": "TypeError",
          "evalue": "ignored",
          "traceback": [
            "\u001b[0;31m---------------------------------------------------------------------------\u001b[0m",
            "\u001b[0;31mTypeError\u001b[0m                                 Traceback (most recent call last)",
            "\u001b[0;32m<ipython-input-4-223ca7478706>\u001b[0m in \u001b[0;36m<cell line: 3>\u001b[0;34m()\u001b[0m\n\u001b[1;32m      1\u001b[0m \u001b[0;31m#Python Strings are immutable\u001b[0m\u001b[0;34m\u001b[0m\u001b[0;34m\u001b[0m\u001b[0m\n\u001b[1;32m      2\u001b[0m \u001b[0mmess\u001b[0m\u001b[0;34m=\u001b[0m\u001b[0;34m'hi how are you?'\u001b[0m\u001b[0;34m\u001b[0m\u001b[0;34m\u001b[0m\u001b[0m\n\u001b[0;32m----> 3\u001b[0;31m \u001b[0mmess\u001b[0m\u001b[0;34m[\u001b[0m\u001b[0;36m0\u001b[0m\u001b[0;34m]\u001b[0m\u001b[0;34m=\u001b[0m\u001b[0;34m'h'\u001b[0m\u001b[0;34m\u001b[0m\u001b[0;34m\u001b[0m\u001b[0m\n\u001b[0m\u001b[1;32m      4\u001b[0m \u001b[0mprint\u001b[0m\u001b[0;34m(\u001b[0m\u001b[0mmess\u001b[0m\u001b[0;34m)\u001b[0m\u001b[0;34m\u001b[0m\u001b[0;34m\u001b[0m\u001b[0m\n\u001b[1;32m      5\u001b[0m \u001b[0;31m#As the below message says that string object does not support item assignment means you can not change the characters of the string once they are created (immutable)\u001b[0m\u001b[0;34m\u001b[0m\u001b[0;34m\u001b[0m\u001b[0m\n",
            "\u001b[0;31mTypeError\u001b[0m: 'str' object does not support item assignment"
          ]
        }
      ]
    },
    {
      "cell_type": "code",
      "source": [
        "#However we can assign a new string to the variable\n",
        "mess='hi how are you?'\n",
        "mess='i\\'m fine'\n",
        "print(mess)"
      ],
      "metadata": {
        "colab": {
          "base_uri": "https://localhost:8080/"
        },
        "id": "J1QoAhqhq6ro",
        "outputId": "97d55764-ba58-455d-c351-83bdeb8433ba"
      },
      "execution_count": null,
      "outputs": [
        {
          "output_type": "stream",
          "name": "stdout",
          "text": [
            "i'm fine\n"
          ]
        }
      ]
    },
    {
      "cell_type": "code",
      "source": [
        "#multiline string in python\n",
        "#We can create multiline string by using triple single quote ''' or triple double quote\"\"\"\n",
        "mess='''\n",
        "   This is the multiline string\n",
        "   you can write anything\n",
        "   ''' #Single quote multiline string\n",
        "print(mess)\n",
        "mess=\"\"\"\n",
        "   This is the multiline string\n",
        "   you can write anything\n",
        "   \"\"\" #Double quote multiline string\n",
        "print(mess)"
      ],
      "metadata": {
        "colab": {
          "base_uri": "https://localhost:8080/"
        },
        "id": "eRi6LnCVrBz2",
        "outputId": "031c9789-68c1-4048-f37b-737d3d9a0f5e"
      },
      "execution_count": null,
      "outputs": [
        {
          "output_type": "stream",
          "name": "stdout",
          "text": [
            "\n",
            "   This is the multiline string\n",
            "   you can write anything\n",
            "   \n",
            "\n",
            "   This is the multiline string\n",
            "   you can write anything\n",
            "   \n"
          ]
        }
      ]
    },
    {
      "cell_type": "code",
      "source": [
        "#python string operations\n",
        "\n",
        "#compare two strings\n",
        "str1='hi i\\'m Harsh'\n",
        "str2='hi i\\'m nawab'\n",
        "str3='hi i\\'m shiv'\n",
        "#We can compare two strings by using the == operator\n",
        "print(str1==str2)\n",
        "print(str1==str3)\n",
        "#If the string is equal then it will print true otherwise false\n",
        "\n",
        "#Join two or more strings\n",
        "temp='hi '\n",
        "name='harsh'\n",
        "#So you can join or concatenate the two or more strings by using the +operator\n",
        "print(temp+name)"
      ],
      "metadata": {
        "colab": {
          "base_uri": "https://localhost:8080/"
        },
        "id": "g0VRUT0arIy0",
        "outputId": "93b02c34-07d0-41d9-a7f4-11369b57a2eb"
      },
      "execution_count": null,
      "outputs": [
        {
          "output_type": "stream",
          "name": "stdout",
          "text": [
            "False\n",
            "False\n",
            "hi harsh\n"
          ]
        }
      ]
    },
    {
      "cell_type": "code",
      "source": [
        "#Iterate the python string\n",
        "#We can iterate a string using for loop\n",
        "hi=('i\\'m Harsh')\n",
        "for letter in hi:\n",
        "  print(letter)"
      ],
      "metadata": {
        "colab": {
          "base_uri": "https://localhost:8080/"
        },
        "id": "UOkZmC8arWpc",
        "outputId": "ead694a0-e0ad-436e-a230-63e788c6c327"
      },
      "execution_count": null,
      "outputs": [
        {
          "output_type": "stream",
          "name": "stdout",
          "text": [
            "i\n",
            "'\n",
            "m\n",
            " \n",
            "H\n",
            "a\n",
            "r\n",
            "s\n",
            "h\n"
          ]
        }
      ]
    },
    {
      "cell_type": "code",
      "source": [
        "#python string length\n",
        "\n",
        "mess=\"calculate the length of the string\"\n",
        "#We can calculate the length of the string by using len() method\n",
        "print(len(mess))"
      ],
      "metadata": {
        "colab": {
          "base_uri": "https://localhost:8080/"
        },
        "id": "XB-P03VMrcCI",
        "outputId": "a8a0310c-5bee-4051-d883-9f02822c1be2"
      },
      "execution_count": null,
      "outputs": [
        {
          "output_type": "stream",
          "name": "stdout",
          "text": [
            "34\n"
          ]
        }
      ]
    },
    {
      "cell_type": "code",
      "source": [
        "#string membership test\n",
        "#We can test if the substring exist in the string or not by using the keyword in\n",
        "print('e' in 'Dev') #True\n",
        "print('e' not in 'Dev') #False"
      ],
      "metadata": {
        "colab": {
          "base_uri": "https://localhost:8080/"
        },
        "id": "l7uWn1R4rhkV",
        "outputId": "3bbe8671-81cd-466e-f380-2abcc0aef4b6"
      },
      "execution_count": null,
      "outputs": [
        {
          "output_type": "stream",
          "name": "stdout",
          "text": [
            "True\n",
            "False\n"
          ]
        }
      ]
    },
    {
      "cell_type": "code",
      "source": [
        "#Methods of python string\n",
        "#upper()\n",
        "hi='hi how are you?'\n",
        "print(hi.upper()) #Convert all the string characters to the upper cases\n",
        "#lower()\n",
        "hi='HI HOW ARE YOU?'\n",
        "print(hi.lower()) #Convert all the string characters to the lower cases\n",
        "#partition()\n",
        "hi='im dev shete'\n",
        "print(hi.partition('dev')) #Found the sepeartor here so it will display the seperator part itself and the part before sep and after sep\n",
        "hi='im dev shete'\n",
        "print(hi.partition('not')) #Doesn't find the seperator here so it will display the string itself and two non empty strings\n",
        "#replace()\n",
        "#replace method replaces the mataching occurrence of substring to the another string\n",
        "hi='im dev'\n",
        "print(hi.replace('dev','Gaurav')) #syntax--> varname.replace(old ,new)\n",
        "#find()\n",
        "#find() method returns the index of the first occurrence of the substring if found.not found then returns -1\n",
        "#find() with no start and end argument\n",
        "mess='im dev who are you?'\n",
        "print(mess.find('dev')) #3\n",
        "mess='im dev who are you?'\n",
        "print(mess.find('gaurav')) #-1\n",
        "#find() with start and end argument\n",
        "mess='im dev who are you?'\n",
        "print(mess.find('dev',7)) #substring is searched in 'who are you?'\n",
        "mess='im dev who are you?'\n",
        "print(mess.find('dev',1,15)) #substring is searched in 'm dev who are you?'\n",
        "#rstrip()\n",
        "#rstrip method returns copy of the string with trailing characters removed\n",
        "hi='im dev.  '\n",
        "print(hi.rstrip())\n",
        "hi='im dev  '\n",
        "print(hi.rstrip('i ev'))\n",
        "#split()\n",
        "#The split() method split a string at the specified sperator and resturns a list of substring.\n",
        "hi='im dev'\n",
        "print(hi.split()) #splits at space.\n",
        "hi='im,dev'\n",
        "print(hi.split(','))#splits at comma\n",
        "hi='im dev'\n",
        "print(hi.split(':')) #there are no colons so the string does not split\n",
        "#max split specifies the maximum number of splits to be performed on the string.\n",
        "hi='im,dev,gaurav,panda'\n",
        "print(hi.split(',',2)) #Here max splits can be performed are two so the im and dev are splited and remaining part are treated as single.\n",
        "#startswith()\n",
        "#startswith() method returns true if a string start with specified prefix string\n",
        "hi='im dev'\n",
        "print(hi.startswith('im'))\n",
        "#start and end parameter in startswith()\n",
        "hi='im dev'\n",
        "print(hi.startswith('im',0)) #strat parameter:0\n",
        "hi='im dev'\n",
        "print(hi.startswith('im',0,2)) #start parameter:0 end parameter:2\n",
        "#isnumeric()\n",
        "#isnumeric() method checks if the all characters in the string are numeric or not\n",
        "hi='123'\n",
        "print(hi.isnumeric())\n",
        "hi='harsh'\n",
        "print(hi.isnumeric())\n",
        "#index()\n",
        "#index() method returns the index of the substring\n",
        "hi='im Harsh'\n",
        "print(hi.index('Har'))\n",
        "#index with start and end arguments\n",
        "hi='im Harsh'\n",
        "print(hi.index('Har',1)) #substring is searched in 'm dev'\n",
        "hi='im Harsh'\n",
        "print(hi.index('Ha',1,-1)) #substring is searched in 'm de'"
      ],
      "metadata": {
        "colab": {
          "base_uri": "https://localhost:8080/"
        },
        "id": "7l6qRZe1rmux",
        "outputId": "83db37e2-2af2-47f2-c21c-8a4480480e3f"
      },
      "execution_count": null,
      "outputs": [
        {
          "output_type": "stream",
          "name": "stdout",
          "text": [
            "HI HOW ARE YOU?\n",
            "hi how are you?\n",
            "('im ', 'dev', ' shete')\n",
            "('im dev shete', '', '')\n",
            "im Gaurav\n",
            "3\n",
            "-1\n",
            "-1\n",
            "3\n",
            "im dev.\n",
            "im d\n",
            "['im', 'dev']\n",
            "['im', 'dev']\n",
            "['im dev']\n",
            "['im', 'dev', 'gaurav,panda']\n",
            "True\n",
            "True\n",
            "True\n",
            "True\n",
            "False\n",
            "3\n",
            "3\n",
            "3\n"
          ]
        }
      ]
    },
    {
      "cell_type": "code",
      "source": [
        "#escape sequence in python\n",
        "#used to escape some of the characters present inside a string\n",
        "hi='i\\'m Harsh'\n",
        "print(hi)"
      ],
      "metadata": {
        "colab": {
          "base_uri": "https://localhost:8080/"
        },
        "id": "CgaO6dydrrJk",
        "outputId": "6da4086b-5e39-4b42-a2d4-a6b5ed75c2e2"
      },
      "execution_count": null,
      "outputs": [
        {
          "output_type": "stream",
          "name": "stdout",
          "text": [
            "i'm Harsh\n"
          ]
        }
      ]
    },
    {
      "cell_type": "code",
      "source": [
        "#string formtting(f-strings)\n",
        "#python f-strings make it really easy to print values and variables\n",
        "\n",
        "name='Harsh'\n",
        "country='India'\n",
        "print(f'{name} is from {country}')"
      ],
      "metadata": {
        "colab": {
          "base_uri": "https://localhost:8080/"
        },
        "id": "mndnYYhsrvB1",
        "outputId": "fd194ad9-dabe-45a1-9b58-c31830ae87e8"
      },
      "execution_count": null,
      "outputs": [
        {
          "output_type": "stream",
          "name": "stdout",
          "text": [
            "Harsh is from India\n"
          ]
        }
      ]
    }
  ]
}